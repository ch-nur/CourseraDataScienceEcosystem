{
 "cells": [
  {
   "cell_type": "markdown",
   "id": "a928fa6c-04a9-4f67-95ee-3683e0ccc837",
   "metadata": {},
   "source": [
    "# Data Science Tools and Ecosystem\n",
    "## Author\n",
    "Chris Norris"
   ]
  },
  {
   "cell_type": "markdown",
   "id": "8d3a2e52-67c2-4407-b631-6a13d932492c",
   "metadata": {},
   "source": [
    "In this notebook, Data Science Tools and Ecosystem are summarized."
   ]
  },
  {
   "cell_type": "markdown",
   "id": "5e9084f8-8c51-41f0-88c6-1711fec098a6",
   "metadata": {},
   "source": [
    "**Objectives**\n",
    "+ List Commonly Used Languages used in Data Science\n",
    "+ List Commonly Used Libraries used in Data Science\n",
    "+ show some examples of python code snippets"
   ]
  },
  {
   "cell_type": "markdown",
   "id": "f5959020-8ece-439f-abce-dcb303919eee",
   "metadata": {},
   "source": [
    "Some of the popular languages that Data Scientists use are:\n",
    "1. Python\n",
    "2. R\n",
    "3. SQL\n",
    "4. Ruby\n",
    "5. C++\n",
    "6. Scala\n",
    "7. Javascript\n",
    "and many, many more"
   ]
  },
  {
   "cell_type": "markdown",
   "id": "3a2fe0fd-64be-4ac9-a8c2-93ecf5505955",
   "metadata": {},
   "source": [
    "some of the commonly used libraries used by Data Scientists include:\n",
    "\n",
    "1. matplotlib\n",
    "2. Tensorflow\n",
    "3. Pandas\n",
    "4. SciPy\n",
    "5. NumPy"
   ]
  },
  {
   "cell_type": "markdown",
   "id": "ca481c6d-5a99-496d-9cd2-823415b8e0bc",
   "metadata": {},
   "source": [
    "| Data Science Tools      |\n",
    "| ----- |\n",
    "| Jupyter      |\n",
    "| GitHub |\n",
    "| RStudio |"
   ]
  },
  {
   "cell_type": "markdown",
   "id": "16a023a7-f067-4d78-b248-2950cd195f07",
   "metadata": {},
   "source": [
    "### Below are a few examples of evaluating arithmetic expressions in Python"
   ]
  },
  {
   "cell_type": "code",
   "execution_count": 2,
   "id": "5d2a696a-9e64-4bd3-a383-c67f7eb90f43",
   "metadata": {},
   "outputs": [
    {
     "data": {
      "text/plain": [
       "17"
      ]
     },
     "execution_count": 2,
     "metadata": {},
     "output_type": "execute_result"
    }
   ],
   "source": [
    "#This is a simple arithmetic expressions to multiply and then add integers\n",
    "(3*4)+5"
   ]
  },
  {
   "cell_type": "code",
   "execution_count": 3,
   "id": "f8af5ffd-3426-4b68-9ac1-67554e421789",
   "metadata": {},
   "outputs": [
    {
     "data": {
      "text/plain": [
       "3.3333333333333335"
      ]
     },
     "execution_count": 3,
     "metadata": {},
     "output_type": "execute_result"
    }
   ],
   "source": [
    "# This will translate minutes into hours\n",
    "minutes = 200\n",
    "minutesInOneHour = 60\n",
    "minutes / minutesInOneHour"
   ]
  }
 ],
 "metadata": {
  "kernelspec": {
   "display_name": "Python 3 (ipykernel)",
   "language": "python",
   "name": "python3"
  },
  "language_info": {
   "codemirror_mode": {
    "name": "ipython",
    "version": 3
   },
   "file_extension": ".py",
   "mimetype": "text/x-python",
   "name": "python",
   "nbconvert_exporter": "python",
   "pygments_lexer": "ipython3",
   "version": "3.11.4"
  }
 },
 "nbformat": 4,
 "nbformat_minor": 5
}
